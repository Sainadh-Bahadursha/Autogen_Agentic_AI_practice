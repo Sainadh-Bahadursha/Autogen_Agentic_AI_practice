{
 "cells": [
  {
   "cell_type": "code",
   "execution_count": 1,
   "id": "961997c2",
   "metadata": {},
   "outputs": [],
   "source": [
    "from autogen_agentchat.agents import AssistantAgent\n",
    "from autogen_agentchat.ui import Console\n",
    "from autogen_core.memory import ListMemory, MemoryContent, MemoryMimeType\n",
    "from autogen_ext.models.openai import OpenAIChatCompletionClient\n"
   ]
  },
  {
   "cell_type": "code",
   "execution_count": 2,
   "id": "6a6d25b6",
   "metadata": {},
   "outputs": [],
   "source": [
    "userMemory = ListMemory()"
   ]
  },
  {
   "cell_type": "code",
   "execution_count": 3,
   "id": "5e3928f2",
   "metadata": {},
   "outputs": [],
   "source": [
    "api_key =None"
   ]
  },
  {
   "cell_type": "code",
   "execution_count": 4,
   "id": "1dd0a393",
   "metadata": {},
   "outputs": [],
   "source": [
    "await userMemory.add(MemoryContent(\n",
    "    content='The weather unit should be degree celsius ( metric)',\n",
    "    mime_type=MemoryMimeType.TEXT\n",
    "))\n",
    "\n",
    "await userMemory.add(MemoryContent(\n",
    "    content='The User is Vegetarian',\n",
    "    mime_type=MemoryMimeType.TEXT\n",
    "))\n",
    "\n"
   ]
  },
  {
   "cell_type": "code",
   "execution_count": 5,
   "id": "e6203549",
   "metadata": {},
   "outputs": [],
   "source": [
    "async def get_weather(city: str, units: str = \"imperial\") -> str:\n",
    "    if units == \"imperial\":\n",
    "        return f\"The weather in {city} is 73 °F and Sunny.\"\n",
    "    elif units == \"metric\":\n",
    "        return f\"The weather in {city} is 23 °C and Sunny.\"\n",
    "    else:\n",
    "        return f\"Sorry, I don't know the weather in {city}.\"\n"
   ]
  },
  {
   "cell_type": "code",
   "execution_count": 6,
   "id": "270dc9a6",
   "metadata": {},
   "outputs": [],
   "source": [
    "assistant_agent = AssistantAgent(\n",
    "    'weather_assistant',\n",
    "    model_client=OpenAIChatCompletionClient(model='gpt-4o-mini',api_key=api_key),\n",
    "    tools=[get_weather],\n",
    "    memory=[userMemory]\n",
    ")"
   ]
  },
  {
   "cell_type": "code",
   "execution_count": 7,
   "id": "b2b8547a",
   "metadata": {},
   "outputs": [
    {
     "name": "stdout",
     "output_type": "stream",
     "text": [
      "---------- TextMessage (user) ----------\n",
      "What is the weather in Delhi ?\n",
      "---------- MemoryQueryEvent (weather_assistant) ----------\n",
      "[MemoryContent(content='The weather unit should be degree celsius ( metric)', mime_type=<MemoryMimeType.TEXT: 'text/plain'>, metadata=None), MemoryContent(content='The User is Vegetarian', mime_type=<MemoryMimeType.TEXT: 'text/plain'>, metadata=None)]\n",
      "---------- ToolCallRequestEvent (weather_assistant) ----------\n",
      "[FunctionCall(id='call_QDRcAaCzFCRGOJVItMaI1CdC', arguments='{\"city\":\"Delhi\",\"units\":\"metric\"}', name='get_weather')]\n",
      "---------- ToolCallExecutionEvent (weather_assistant) ----------\n",
      "[FunctionExecutionResult(content='The weather in Delhi is 23 °C and Sunny.', name='get_weather', call_id='call_QDRcAaCzFCRGOJVItMaI1CdC', is_error=False)]\n",
      "---------- ToolCallSummaryMessage (weather_assistant) ----------\n",
      "The weather in Delhi is 23 °C and Sunny.\n"
     ]
    },
    {
     "data": {
      "text/plain": [
       "TaskResult(messages=[TextMessage(id='fa1d26da-91a6-4dc5-a563-5f01155e7643', source='user', models_usage=None, metadata={}, created_at=datetime.datetime(2025, 8, 9, 17, 13, 2, 749167, tzinfo=datetime.timezone.utc), content='What is the weather in Delhi ?', type='TextMessage'), MemoryQueryEvent(id='00f7af7d-eff5-42d5-8fba-e3abb9d2806f', source='weather_assistant', models_usage=None, metadata={}, created_at=datetime.datetime(2025, 8, 9, 17, 13, 2, 758375, tzinfo=datetime.timezone.utc), content=[MemoryContent(content='The weather unit should be degree celsius ( metric)', mime_type=<MemoryMimeType.TEXT: 'text/plain'>, metadata=None), MemoryContent(content='The User is Vegetarian', mime_type=<MemoryMimeType.TEXT: 'text/plain'>, metadata=None)], type='MemoryQueryEvent'), ToolCallRequestEvent(id='f186f2a7-a096-41c7-aa93-804330014af8', source='weather_assistant', models_usage=RequestUsage(prompt_tokens=124, completion_tokens=18), metadata={}, created_at=datetime.datetime(2025, 8, 9, 17, 13, 5, 323795, tzinfo=datetime.timezone.utc), content=[FunctionCall(id='call_QDRcAaCzFCRGOJVItMaI1CdC', arguments='{\"city\":\"Delhi\",\"units\":\"metric\"}', name='get_weather')], type='ToolCallRequestEvent'), ToolCallExecutionEvent(id='0c0b6bb6-8a45-48a9-912b-9a6e26163ae6', source='weather_assistant', models_usage=None, metadata={}, created_at=datetime.datetime(2025, 8, 9, 17, 13, 5, 331918, tzinfo=datetime.timezone.utc), content=[FunctionExecutionResult(content='The weather in Delhi is 23 °C and Sunny.', name='get_weather', call_id='call_QDRcAaCzFCRGOJVItMaI1CdC', is_error=False)], type='ToolCallExecutionEvent'), ToolCallSummaryMessage(id='868aa1f5-c8cd-409f-bf10-49e7b9b70980', source='weather_assistant', models_usage=None, metadata={}, created_at=datetime.datetime(2025, 8, 9, 17, 13, 5, 338365, tzinfo=datetime.timezone.utc), content='The weather in Delhi is 23 °C and Sunny.', type='ToolCallSummaryMessage', tool_calls=[FunctionCall(id='call_QDRcAaCzFCRGOJVItMaI1CdC', arguments='{\"city\":\"Delhi\",\"units\":\"metric\"}', name='get_weather')], results=[FunctionExecutionResult(content='The weather in Delhi is 23 °C and Sunny.', name='get_weather', call_id='call_QDRcAaCzFCRGOJVItMaI1CdC', is_error=False)])], stop_reason=None)"
      ]
     },
     "execution_count": 7,
     "metadata": {},
     "output_type": "execute_result"
    }
   ],
   "source": [
    "stream = assistant_agent.run_stream(task='What is the weather in Delhi ?')\n",
    "await Console(stream)"
   ]
  },
  {
   "cell_type": "code",
   "execution_count": 8,
   "id": "8cfa2278",
   "metadata": {},
   "outputs": [
    {
     "name": "stdout",
     "output_type": "stream",
     "text": [
      "---------- TextMessage (user) ----------\n",
      "Can you give me a good high protien diet ?\n",
      "---------- MemoryQueryEvent (weather_assistant) ----------\n",
      "[MemoryContent(content='The weather unit should be degree celsius ( metric)', mime_type=<MemoryMimeType.TEXT: 'text/plain'>, metadata=None), MemoryContent(content='The User is Vegetarian', mime_type=<MemoryMimeType.TEXT: 'text/plain'>, metadata=None)]\n",
      "---------- TextMessage (weather_assistant) ----------\n",
      "Here's a high-protein vegetarian diet plan for you:\n",
      "\n",
      "**Breakfast:**\n",
      "- Scrambled tofu with spinach and tomatoes\n",
      "- Whole-grain toast\n",
      "- Greek yogurt with almonds and berries\n",
      "\n",
      "**Mid-Morning Snack:**\n",
      "- A protein smoothie made with plant-based protein powder, almond milk, and a banana\n",
      "\n",
      "**Lunch:**\n",
      "- Lentil soup\n",
      "- Quinoa salad with chickpeas, cucumber, and bell peppers\n",
      "- A serving of mixed greens with avocado\n",
      "\n",
      "**Afternoon Snack:**\n",
      "- Hummus and carrot sticks\n",
      "\n",
      "**Dinner:**\n",
      "- Grilled tempeh with a side of steamed broccoli and quinoa\n",
      "- A mixed vegetable stir-fry\n",
      "\n",
      "**Evening Snack:**\n",
      "- Cottage cheese with a handful of nuts\n",
      "\n",
      "This plan includes a variety of protein-rich vegetarian foods and will help you maintain a balanced diet. Feel free to adjust portions based on your specific dietary needs and preferences.\n"
     ]
    },
    {
     "data": {
      "text/plain": [
       "TaskResult(messages=[TextMessage(id='50514b4c-a964-4a2f-90c4-0d3992ac7d3a', source='user', models_usage=None, metadata={}, created_at=datetime.datetime(2025, 8, 9, 17, 13, 9, 968613, tzinfo=datetime.timezone.utc), content='Can you give me a good high protien diet ?', type='TextMessage'), MemoryQueryEvent(id='60a1350c-c5d1-4f48-b7c7-0a474c71e277', source='weather_assistant', models_usage=None, metadata={}, created_at=datetime.datetime(2025, 8, 9, 17, 13, 9, 974009, tzinfo=datetime.timezone.utc), content=[MemoryContent(content='The weather unit should be degree celsius ( metric)', mime_type=<MemoryMimeType.TEXT: 'text/plain'>, metadata=None), MemoryContent(content='The User is Vegetarian', mime_type=<MemoryMimeType.TEXT: 'text/plain'>, metadata=None)], type='MemoryQueryEvent'), TextMessage(id='f935cedf-a5a6-4dec-bb26-aea2c621dd1a', source='weather_assistant', models_usage=RequestUsage(prompt_tokens=211, completion_tokens=185), metadata={}, created_at=datetime.datetime(2025, 8, 9, 17, 13, 14, 997324, tzinfo=datetime.timezone.utc), content=\"Here's a high-protein vegetarian diet plan for you:\\n\\n**Breakfast:**\\n- Scrambled tofu with spinach and tomatoes\\n- Whole-grain toast\\n- Greek yogurt with almonds and berries\\n\\n**Mid-Morning Snack:**\\n- A protein smoothie made with plant-based protein powder, almond milk, and a banana\\n\\n**Lunch:**\\n- Lentil soup\\n- Quinoa salad with chickpeas, cucumber, and bell peppers\\n- A serving of mixed greens with avocado\\n\\n**Afternoon Snack:**\\n- Hummus and carrot sticks\\n\\n**Dinner:**\\n- Grilled tempeh with a side of steamed broccoli and quinoa\\n- A mixed vegetable stir-fry\\n\\n**Evening Snack:**\\n- Cottage cheese with a handful of nuts\\n\\nThis plan includes a variety of protein-rich vegetarian foods and will help you maintain a balanced diet. Feel free to adjust portions based on your specific dietary needs and preferences.\", type='TextMessage')], stop_reason=None)"
      ]
     },
     "execution_count": 8,
     "metadata": {},
     "output_type": "execute_result"
    }
   ],
   "source": [
    "stream = assistant_agent.run_stream(task='Can you give me a good high protien diet ?')\n",
    "await Console(stream)"
   ]
  },
  {
   "cell_type": "code",
   "execution_count": 9,
   "id": "afe629e4",
   "metadata": {},
   "outputs": [
    {
     "name": "stdout",
     "output_type": "stream",
     "text": [
      "---------- TextMessage (user) ----------\n",
      "Can you give me a good high protien diet ?\n",
      "---------- MemoryQueryEvent (weather_assistant) ----------\n",
      "[MemoryContent(content='The weather unit should be degree celsius ( metric)', mime_type=<MemoryMimeType.TEXT: 'text/plain'>, metadata=None), MemoryContent(content='The User is Vegetarian', mime_type=<MemoryMimeType.TEXT: 'text/plain'>, metadata=None)]\n",
      "---------- TextMessage (weather_assistant) ----------\n",
      "Here's a high-protein vegetarian diet plan for you:\n",
      "\n",
      "**Breakfast:**\n",
      "- Chickpea and avocado toast on whole-grain bread\n",
      "- Greek yogurt with chia seeds and mixed berries\n",
      "\n",
      "**Mid-Morning Snack:**\n",
      "- A protein smoothie with spinach, banana, and a scoop of plant-based protein powder\n",
      "\n",
      "**Lunch:**\n",
      "- Lentil and vegetable salad with a balsamic dressing\n",
      "- Quinoa stuffed bell peppers\n",
      "\n",
      "**Afternoon Snack:**\n",
      "- Roasted edamame or chickpeas\n",
      "\n",
      "**Dinner:**\n",
      "- Grilled paneer with mixed vegetables\n",
      "- A serving of mixed greens with a lemon-tahini dressing\n",
      "\n",
      "**Evening Snack:**\n",
      "- Nuts and seeds, such as almonds or pumpkin seeds\n",
      "\n",
      "This diet plan provides a variety of high-protein foods while remaining vegetarian-friendly. Adjust portions to suit your nutritional needs and enjoy!\n"
     ]
    },
    {
     "data": {
      "text/plain": [
       "TaskResult(messages=[TextMessage(id='d5d305e8-cb11-4a36-b5df-6c8ac8697f00', source='user', models_usage=None, metadata={}, created_at=datetime.datetime(2025, 8, 9, 17, 13, 17, 893037, tzinfo=datetime.timezone.utc), content='Can you give me a good high protien diet ?', type='TextMessage'), MemoryQueryEvent(id='edc18476-b8bc-4d47-bc2c-48f078c548df', source='weather_assistant', models_usage=None, metadata={}, created_at=datetime.datetime(2025, 8, 9, 17, 13, 17, 898814, tzinfo=datetime.timezone.utc), content=[MemoryContent(content='The weather unit should be degree celsius ( metric)', mime_type=<MemoryMimeType.TEXT: 'text/plain'>, metadata=None), MemoryContent(content='The User is Vegetarian', mime_type=<MemoryMimeType.TEXT: 'text/plain'>, metadata=None)], type='MemoryQueryEvent'), TextMessage(id='1cdd418b-c76d-4530-8a4e-6fc2e327a63c', source='weather_assistant', models_usage=RequestUsage(prompt_tokens=448, completion_tokens=173), metadata={}, created_at=datetime.datetime(2025, 8, 9, 17, 13, 24, 49677, tzinfo=datetime.timezone.utc), content=\"Here's a high-protein vegetarian diet plan for you:\\n\\n**Breakfast:**\\n- Chickpea and avocado toast on whole-grain bread\\n- Greek yogurt with chia seeds and mixed berries\\n\\n**Mid-Morning Snack:**\\n- A protein smoothie with spinach, banana, and a scoop of plant-based protein powder\\n\\n**Lunch:**\\n- Lentil and vegetable salad with a balsamic dressing\\n- Quinoa stuffed bell peppers\\n\\n**Afternoon Snack:**\\n- Roasted edamame or chickpeas\\n\\n**Dinner:**\\n- Grilled paneer with mixed vegetables\\n- A serving of mixed greens with a lemon-tahini dressing\\n\\n**Evening Snack:**\\n- Nuts and seeds, such as almonds or pumpkin seeds\\n\\nThis diet plan provides a variety of high-protein foods while remaining vegetarian-friendly. Adjust portions to suit your nutritional needs and enjoy!\", type='TextMessage')], stop_reason=None)"
      ]
     },
     "execution_count": 9,
     "metadata": {},
     "output_type": "execute_result"
    }
   ],
   "source": [
    "stream = assistant_agent.run_stream(task='Can you give me a good high protien diet ?')\n",
    "await Console(stream)"
   ]
  },
  {
   "cell_type": "code",
   "execution_count": null,
   "id": "d55cff16",
   "metadata": {},
   "outputs": [],
   "source": []
  }
 ],
 "metadata": {
  "kernelspec": {
   "display_name": "autogen",
   "language": "python",
   "name": "python3"
  },
  "language_info": {
   "codemirror_mode": {
    "name": "ipython",
    "version": 3
   },
   "file_extension": ".py",
   "mimetype": "text/x-python",
   "name": "python",
   "nbconvert_exporter": "python",
   "pygments_lexer": "ipython3",
   "version": "3.11.13"
  }
 },
 "nbformat": 4,
 "nbformat_minor": 5
}
