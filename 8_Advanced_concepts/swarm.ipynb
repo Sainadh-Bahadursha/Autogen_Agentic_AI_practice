{
 "cells": [
  {
   "cell_type": "code",
   "execution_count": 1,
   "id": "e5223332",
   "metadata": {},
   "outputs": [],
   "source": [
    "from typing import Any, Dict, List\n",
    "\n",
    "from autogen_agentchat.agents import AssistantAgent\n",
    "from autogen_agentchat.conditions import HandoffTermination, TextMentionTermination\n",
    "from autogen_agentchat.messages import HandoffMessage\n",
    "from autogen_agentchat.teams import Swarm\n",
    "from autogen_agentchat.ui import Console\n",
    "from autogen_ext.models.openai import OpenAIChatCompletionClient\n"
   ]
  },
  {
   "cell_type": "code",
   "execution_count": 2,
   "id": "c27b3447",
   "metadata": {},
   "outputs": [],
   "source": [
    "def refund_flight (flight_PNR:str) ->str:\n",
    "    return f\"Refunded Flight with PNR {flight_PNR}\""
   ]
  },
  {
   "cell_type": "code",
   "execution_count": 3,
   "id": "c65e4cb1",
   "metadata": {},
   "outputs": [],
   "source": [
    "api_key=None\n",
    "model_client = OpenAIChatCompletionClient(model='gpt-4o-mini',api_key=api_key,parallel_tool_calls=False)"
   ]
  },
  {
   "cell_type": "code",
   "execution_count": 4,
   "id": "a6f2d670",
   "metadata": {},
   "outputs": [],
   "source": [
    "travel_agent = AssistantAgent(\n",
    "    \"travel_agent\",\n",
    "    model_client=model_client,\n",
    "    handoffs=[\"flights_refunder\", \"user\"],\n",
    "    system_message=\"\"\"You are a travel agent.\n",
    "    The flights_refunder is in charge of refunding flights.\n",
    "    If you need information from the user, you must first send your message, then you can handoff to the user.\n",
    "    Use TERMINATE when the travel planning is complete.\"\"\",\n",
    ")"
   ]
  },
  {
   "cell_type": "code",
   "execution_count": 5,
   "id": "af82f412",
   "metadata": {},
   "outputs": [],
   "source": [
    "flights_refunder = AssistantAgent(\n",
    "    \"flights_refunder\",\n",
    "    model_client=model_client,\n",
    "    handoffs=[\"travel_agent\", \"user\"],\n",
    "    tools=[refund_flight],\n",
    "    system_message=\"\"\"You are an agent specialized in refunding flights.\n",
    "    You only need flight PNR numbers to refund a flight.\n",
    "    You have the ability to refund a flight using the refund_flight tool.\n",
    "    If you need information from the user, you must first send your message, then you can handoff to the user.\n",
    "    When the transaction is complete, handoff to the travel agent to finalize.\"\"\",\n",
    ")"
   ]
  },
  {
   "cell_type": "code",
   "execution_count": 6,
   "id": "1362cd53",
   "metadata": {},
   "outputs": [],
   "source": [
    "termination = HandoffTermination(target=\"user\") | TextMentionTermination(\"TERMINATE\")\n",
    "team = Swarm([travel_agent, flights_refunder], termination_condition=termination)\n"
   ]
  },
  {
   "cell_type": "code",
   "execution_count": 7,
   "id": "24255e9d",
   "metadata": {},
   "outputs": [],
   "source": [
    "await team.reset()"
   ]
  },
  {
   "cell_type": "code",
   "execution_count": null,
   "id": "9189b16f",
   "metadata": {},
   "outputs": [],
   "source": []
  },
  {
   "cell_type": "code",
   "execution_count": 8,
   "id": "a4294f0a",
   "metadata": {},
   "outputs": [
    {
     "name": "stdout",
     "output_type": "stream",
     "text": [
      "---------- TextMessage (user) ----------\n",
      " I want to refund my flight\n",
      "---------- TextMessage (travel_agent) ----------\n",
      "I can assist you with that. Could you please provide your booking reference number and the reason for the refund request? This information will help in processing your refund more efficiently.\n",
      "---------- ToolCallRequestEvent (travel_agent) ----------\n",
      "[FunctionCall(id='call_HzVGWbymiUFDlUgZ0GiOWLxd', arguments='{}', name='transfer_to_user')]\n",
      "---------- ToolCallExecutionEvent (travel_agent) ----------\n",
      "[FunctionExecutionResult(content='Transferred to user, adopting the role of user immediately.', name='transfer_to_user', call_id='call_HzVGWbymiUFDlUgZ0GiOWLxd', is_error=False)]\n",
      "---------- HandoffMessage (travel_agent) ----------\n",
      "Transferred to user, adopting the role of user immediately.\n",
      "---------- HandoffMessage (user) ----------\n",
      "\n",
      "---------- ToolCallRequestEvent (travel_agent) ----------\n",
      "[FunctionCall(id='call_AaaXdBhxCCrydUYus1wWMzur', arguments='{}', name='transfer_to_flights_refunder')]\n",
      "---------- ToolCallExecutionEvent (travel_agent) ----------\n",
      "[FunctionExecutionResult(content='Transferred to flights_refunder, adopting the role of flights_refunder immediately.', name='transfer_to_flights_refunder', call_id='call_AaaXdBhxCCrydUYus1wWMzur', is_error=False)]\n",
      "---------- HandoffMessage (travel_agent) ----------\n",
      "Transferred to flights_refunder, adopting the role of flights_refunder immediately.\n",
      "---------- TextMessage (flights_refunder) ----------\n",
      "Please provide the PNR number for the flight you wish to refund.\n",
      "---------- ToolCallRequestEvent (flights_refunder) ----------\n",
      "[FunctionCall(id='call_mvCSbu0lN237EzVSTQ4cY4k2', arguments='{}', name='transfer_to_user')]\n",
      "---------- ToolCallExecutionEvent (flights_refunder) ----------\n",
      "[FunctionExecutionResult(content='Transferred to user, adopting the role of user immediately.', name='transfer_to_user', call_id='call_mvCSbu0lN237EzVSTQ4cY4k2', is_error=False)]\n",
      "---------- HandoffMessage (flights_refunder) ----------\n",
      "Transferred to user, adopting the role of user immediately.\n",
      "---------- HandoffMessage (user) ----------\n",
      "123456789\n",
      "---------- ToolCallRequestEvent (flights_refunder) ----------\n",
      "[FunctionCall(id='call_GirfccRcmlWj6awpVZlviUP8', arguments='{\"flight_PNR\":\"123456789\"}', name='refund_flight')]\n",
      "---------- ToolCallExecutionEvent (flights_refunder) ----------\n",
      "[FunctionExecutionResult(content='Refunded Flight with PNR 123456789', name='refund_flight', call_id='call_GirfccRcmlWj6awpVZlviUP8', is_error=False)]\n",
      "---------- ToolCallSummaryMessage (flights_refunder) ----------\n",
      "Refunded Flight with PNR 123456789\n",
      "---------- ToolCallRequestEvent (flights_refunder) ----------\n",
      "[FunctionCall(id='call_7qrMmVNGwThVw3QHix57eybV', arguments='{}', name='transfer_to_travel_agent')]\n",
      "---------- ToolCallExecutionEvent (flights_refunder) ----------\n",
      "[FunctionExecutionResult(content='Transferred to travel_agent, adopting the role of travel_agent immediately.', name='transfer_to_travel_agent', call_id='call_7qrMmVNGwThVw3QHix57eybV', is_error=False)]\n",
      "---------- HandoffMessage (flights_refunder) ----------\n",
      "Transferred to travel_agent, adopting the role of travel_agent immediately.\n",
      "---------- TextMessage (travel_agent) ----------\n",
      "Your flight with PNR 123456789 has been successfully refunded. If you have any other questions or need further assistance, feel free to ask. Have a great day! TERMINATE\n"
     ]
    }
   ],
   "source": [
    "task = ' I want to refund my flight'\n",
    "\n",
    "async def run_team_stream() -> None:\n",
    "\n",
    "    task_result = await Console(team.run_stream(task = task))\n",
    "\n",
    "    last_message = task_result.messages[-1]\n",
    "\n",
    "\n",
    "    while ( isinstance(last_message,HandoffMessage) and last_message.target == 'user'):\n",
    "\n",
    "        user_ka_message = input(\"User : \")\n",
    "\n",
    "        task_result = await Console(team.run_stream(task = HandoffMessage(source='user',target=last_message.source,content=user_ka_message)))\n",
    "\n",
    "        last_message = task_result.messages[-1]\n",
    "\n",
    "await run_team_stream()"
   ]
  },
  {
   "cell_type": "code",
   "execution_count": 10,
   "id": "f9a66b47",
   "metadata": {},
   "outputs": [],
   "source": [
    "flights_refunder = AssistantAgent(\n",
    "    \"flights_refunder\",\n",
    "    model_client=model_client,\n",
    "    handoffs=[\"travel_agent\"],\n",
    "    tools=[refund_flight],\n",
    "    system_message=\"\"\"You are an agent specialized in refunding flights.\n",
    "    You only need flight PNR numbers to refund a flight.\n",
    "    You have the ability to refund a flight using the refund_flight tool.\n",
    "    If you need information from the user, you must first send your message, then you can handoff to the user.\n",
    "    When the transaction is complete, handoff to the travel agent to finalize.\"\"\",\n",
    ")"
   ]
  },
  {
   "cell_type": "code",
   "execution_count": 11,
   "id": "9fd89246",
   "metadata": {},
   "outputs": [],
   "source": [
    "await team.reset()"
   ]
  },
  {
   "cell_type": "code",
   "execution_count": 12,
   "id": "47798e20",
   "metadata": {},
   "outputs": [],
   "source": [
    "termination = HandoffTermination(target=\"user\") | TextMentionTermination(\"TERMINATE\") \n",
    "team = Swarm([flights_refunder,travel_agent ], termination_condition=termination,max_turns=20)\n"
   ]
  },
  {
   "cell_type": "code",
   "execution_count": 13,
   "id": "3effd00f",
   "metadata": {},
   "outputs": [
    {
     "name": "stdout",
     "output_type": "stream",
     "text": [
      "---------- TextMessage (user) ----------\n",
      " I want to refund my flight\n",
      "---------- TextMessage (flights_refunder) ----------\n",
      "I'll need the flight PNR number to process your refund. Could you please provide it?\n",
      "---------- TextMessage (flights_refunder) ----------\n",
      "Could you please provide the flight PNR number so I can process your refund?\n",
      "---------- ToolCallRequestEvent (flights_refunder) ----------\n",
      "[FunctionCall(id='call_V59GJnqDr8HObxb849uWuhZh', arguments='{\"flight_PNR\":\"ABC123\"}', name='refund_flight')]\n",
      "---------- ToolCallExecutionEvent (flights_refunder) ----------\n",
      "[FunctionExecutionResult(content='Refunded Flight with PNR ABC123', name='refund_flight', call_id='call_V59GJnqDr8HObxb849uWuhZh', is_error=False)]\n",
      "---------- ToolCallSummaryMessage (flights_refunder) ----------\n",
      "Refunded Flight with PNR ABC123\n",
      "---------- ToolCallRequestEvent (flights_refunder) ----------\n",
      "[FunctionCall(id='call_lYPYfb3JvnmGiYI7sHkMfe9R', arguments='{}', name='transfer_to_travel_agent')]\n",
      "---------- ToolCallExecutionEvent (flights_refunder) ----------\n",
      "[FunctionExecutionResult(content='Transferred to travel_agent, adopting the role of travel_agent immediately.', name='transfer_to_travel_agent', call_id='call_lYPYfb3JvnmGiYI7sHkMfe9R', is_error=False)]\n",
      "---------- HandoffMessage (flights_refunder) ----------\n",
      "Transferred to travel_agent, adopting the role of travel_agent immediately.\n",
      "---------- TextMessage (travel_agent) ----------\n",
      "I've transferred your request to the flights refunder, and they have refunded your flight with the PNR ABC123. If you have any more questions or need further assistance, feel free to ask! TERMINATE\n"
     ]
    }
   ],
   "source": [
    "task = ' I want to refund my flight'\n",
    "\n",
    "async def run_team_stream() -> None:\n",
    "\n",
    "    task_result = await Console(team.run_stream(task = task))\n",
    "\n",
    "    last_message = task_result.messages[-1]\n",
    "\n",
    "\n",
    "    while ( isinstance(last_message,HandoffMessage) and last_message.target == 'user'):\n",
    "\n",
    "        user_ka_message = input(\"User : \")\n",
    "\n",
    "        task_result = await Console(team.run_stream(task = HandoffMessage(source='user',target=last_message.source,content=user_ka_message)))\n",
    "\n",
    "        last_message = task_result.messages[-1]\n",
    "\n",
    "await run_team_stream()"
   ]
  },
  {
   "cell_type": "code",
   "execution_count": null,
   "id": "8b74afe3",
   "metadata": {},
   "outputs": [],
   "source": []
  }
 ],
 "metadata": {
  "kernelspec": {
   "display_name": "autogen",
   "language": "python",
   "name": "python3"
  },
  "language_info": {
   "codemirror_mode": {
    "name": "ipython",
    "version": 3
   },
   "file_extension": ".py",
   "mimetype": "text/x-python",
   "name": "python",
   "nbconvert_exporter": "python",
   "pygments_lexer": "ipython3",
   "version": "3.11.13"
  }
 },
 "nbformat": 4,
 "nbformat_minor": 5
}
