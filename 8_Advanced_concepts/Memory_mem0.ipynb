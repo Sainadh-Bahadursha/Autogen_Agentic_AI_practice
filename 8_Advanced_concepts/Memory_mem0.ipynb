{
 "cells": [
  {
   "cell_type": "code",
   "execution_count": 1,
   "id": "f54e71ac",
   "metadata": {},
   "outputs": [],
   "source": [
    "import asyncio\n",
    "import os\n",
    "from autogen_agentchat.agents import AssistantAgent\n",
    "from autogen_core.memory import MemoryContent, MemoryMimeType\n",
    "from autogen_ext.memory.mem0 import Mem0Memory\n",
    "from autogen_ext.models.openai import OpenAIChatCompletionClient\n"
   ]
  },
  {
   "cell_type": "code",
   "execution_count": 2,
   "id": "4161e535",
   "metadata": {},
   "outputs": [
    {
     "data": {
      "text/plain": [
       "True"
      ]
     },
     "execution_count": 2,
     "metadata": {},
     "output_type": "execute_result"
    }
   ],
   "source": [
    "from dotenv import load_dotenv\n",
    "load_dotenv()"
   ]
  },
  {
   "cell_type": "code",
   "execution_count": 4,
   "id": "5c70f4e9",
   "metadata": {},
   "outputs": [],
   "source": [
    "async def main():\n",
    "\n",
    "    model_client = OpenAIChatCompletionClient(\n",
    "        model=\"gpt-4o-mini\",\n",
    "        api_key=os.getenv(\"OPENAI_API_KEY\"),\n",
    "    )\n",
    "\n",
    "    mem0_memory = Mem0Memory(\n",
    "        user_id='user12345',\n",
    "        is_cloud=True,\n",
    "        api_key=os.getenv(\"MEM0_MEMORY_API_KEY\"))\n",
    "    \n",
    "    try:\n",
    "\n",
    "        print(\"Attempting to add memories to cloud\")\n",
    "\n",
    "        messages = [\n",
    "            {\n",
    "                \"role\":'user',\"content\": \"I am a vegetarian food and I love cooking.\",\n",
    "            },\n",
    "            {\n",
    "                \"role\":'assistant',\"content\": \"I will remember that preference is Vegetarian.\",\n",
    "            },\n",
    "        ]\n",
    "\n",
    "        mem0_memory._client.add(messages,user_id='user12345',metadata={\"category\": \"preferences\",\"type\": \"diet\"})\n",
    "\n",
    "        messages = [\n",
    "            {\n",
    "                \"role\":'user',\"content\": \"I prefer weather information in metric units.\",\n",
    "            },\n",
    "            {\n",
    "                \"role\":'assistant',\"content\": \"I will remember that  you prefer metric unit in weather.\",\n",
    "            },\n",
    "        ]\n",
    "\n",
    "        mem0_memory._client.add(messages,user_id='user12345',metadata={\"category\": \"preferences\",\"type\": \"units\"})\n",
    "\n",
    "\n",
    "        messages = [\n",
    "            {\n",
    "                \"role\":'user',\"content\": \"My Favourite color is Black.\",\n",
    "            },\n",
    "            {\n",
    "                \"role\":'assistant',\"content\": \"I will remember favorite color is black.\",\n",
    "            },\n",
    "        ]\n",
    "\n",
    "        mem0_memory._client.add(messages,user_id='user12345',metadata={\"category\": \"preferences\",\"type\": \"food\"})\n",
    "\n",
    "\n",
    "        print(\"Memories added successfully\")\n",
    "\n",
    "    \n",
    "    except Exception as e:\n",
    "        print(f\"Error adding memories: {e}\")\n",
    "\n",
    "    agent = AssistantAgent(\n",
    "        name='assistant',\n",
    "        model_client=model_client,\n",
    "        memory=[mem0_memory],\n",
    "        system_message=\"You are a helpful assistant that remembers user preferences and use them to provide personalized responses.\",\n",
    "    )\n",
    "\n",
    "    try:\n",
    "        result = await agent.run(task='What type of food I like ?')\n",
    "\n",
    "        print('Agent Response:',result.messages[-1].content)\n",
    "    except Exception as e:\n",
    "        print(f\"Error running agent: {e}\")\n"
   ]
  },
  {
   "cell_type": "code",
   "execution_count": 5,
   "id": "7e082cba",
   "metadata": {},
   "outputs": [
    {
     "name": "stdout",
     "output_type": "stream",
     "text": [
      "Attempting to add memories to cloud\n"
     ]
    },
    {
     "name": "stderr",
     "output_type": "stream",
     "text": [
      "c:\\Users\\saina\\.conda\\envs\\autogen\\Lib\\site-packages\\mem0\\client\\utils.py:18: DeprecationWarning: output_format='v1.0' is deprecated therefore setting it to 'v1.1' by default. Check out the docs for more information: https://docs.mem0.ai/platform/quickstart#4-1-create-memories\n",
      "  return func(*args, **kwargs)\n"
     ]
    },
    {
     "name": "stdout",
     "output_type": "stream",
     "text": [
      "Memories added successfully\n",
      "Agent Response: Since you're a vegetarian and love cooking, you might enjoy trying out a variety of vegetarian recipes, such as Mediterranean dishes, Indian curries, or fresh salads. Do you have any specific types of cuisine or ingredients you particularly enjoy cooking with?\n"
     ]
    }
   ],
   "source": [
    "await main()"
   ]
  },
  {
   "cell_type": "code",
   "execution_count": 6,
   "id": "4b0f307a",
   "metadata": {},
   "outputs": [],
   "source": [
    "api_key = os.getenv(\"OPENAI_API_KEY\")"
   ]
  },
  {
   "cell_type": "code",
   "execution_count": 8,
   "id": "169dfc4f",
   "metadata": {},
   "outputs": [],
   "source": [
    "async def main():\n",
    "\n",
    "    model_client = OpenAIChatCompletionClient(\n",
    "        model=\"gpt-4o\",\n",
    "        api_key=api_key,\n",
    "    )\n",
    "\n",
    "    mem0_memory = Mem0Memory(\n",
    "        user_id='user12345',\n",
    "        is_cloud=True,\n",
    "        api_key=os.getenv(\"MEM0_MEMORY_API_KEY\"))\n",
    "    \n",
    "    try:\n",
    "\n",
    "        print(\"Attempting to add memories to cloud\")\n",
    "\n",
    "        messages = [\n",
    "            {\n",
    "                \"role\":'user',\"content\": \"I am a vegetarian food and I love cooking.\",\n",
    "            },\n",
    "            {\n",
    "                \"role\":'assistant',\"content\": \"I will remember that preference is Vegetarian.\",\n",
    "            },\n",
    "        ]\n",
    "\n",
    "        mem0_memory._client.add(messages,user_id='user12345',metadata={\"category\": \"preferences\",\"type\": \"diet\"})\n",
    "\n",
    "        messages = [\n",
    "            {\n",
    "                \"role\":'user',\"content\": \"I prefer weather information in metric units.\",\n",
    "            },\n",
    "            {\n",
    "                \"role\":'assistant',\"content\": \"I will remember that  you prefer metric unit in weather.\",\n",
    "            },\n",
    "        ]\n",
    "\n",
    "        mem0_memory._client.add(messages,user_id='user12345',metadata={\"category\": \"preferences\",\"type\": \"units\"})\n",
    "\n",
    "\n",
    "        messages = [\n",
    "            {\n",
    "                \"role\":'user',\"content\": \"My Favourite color is Black.\",\n",
    "            },\n",
    "            {\n",
    "                \"role\":'assistant',\"content\": \"I will remember favorite color is black.\",\n",
    "            },\n",
    "        ]\n",
    "\n",
    "        mem0_memory._client.add(messages,user_id='user12345',metadata={\"category\": \"preferences\",\"type\": \"food\"})\n",
    "\n",
    "\n",
    "        print(\"Memories added successfully\")\n",
    "\n",
    "    \n",
    "    except Exception as e:\n",
    "        print(f\"Error adding memories: {e}\")\n",
    "\n",
    "    agent = AssistantAgent(\n",
    "        name='assistant',\n",
    "        model_client=model_client,\n",
    "        memory=[mem0_memory],\n",
    "        system_message=\"You are a helpful assistant that remembers user preferences and use them to provide personalized responses.\",\n",
    "    )\n",
    "\n",
    "    try:\n",
    "        result = await agent.run(task='What type of food I like ?')\n",
    "\n",
    "        print('Agent Response:',result.messages[-1].content)\n",
    "    except Exception as e:\n",
    "        print(f\"Error running agent: {e}\")\n"
   ]
  },
  {
   "cell_type": "code",
   "execution_count": 9,
   "id": "c3fa4384",
   "metadata": {},
   "outputs": [
    {
     "name": "stdout",
     "output_type": "stream",
     "text": [
      "Attempting to add memories to cloud\n"
     ]
    },
    {
     "name": "stderr",
     "output_type": "stream",
     "text": [
      "c:\\Users\\saina\\.conda\\envs\\autogen\\Lib\\site-packages\\mem0\\client\\utils.py:18: DeprecationWarning: output_format='v1.0' is deprecated therefore setting it to 'v1.1' by default. Check out the docs for more information: https://docs.mem0.ai/platform/quickstart#4-1-create-memories\n",
      "  return func(*args, **kwargs)\n"
     ]
    },
    {
     "name": "stdout",
     "output_type": "stream",
     "text": [
      "Memories added successfully\n",
      "Agent Response: Based on what I remember, you are a vegetarian. If you've mentioned specific types of cuisines or dishes you enjoy, let me know, and I can tailor my suggestions accordingly!\n"
     ]
    }
   ],
   "source": [
    "await main()"
   ]
  },
  {
   "cell_type": "code",
   "execution_count": 12,
   "id": "eb1f2241",
   "metadata": {},
   "outputs": [
    {
     "name": "stderr",
     "output_type": "stream",
     "text": [
      "Error adding to mem0 memory: API request failed: {\"messages\":[\"Expected a list of items but got type \\\"str\\\".\"]}\n"
     ]
    },
    {
     "ename": "APIError",
     "evalue": "API request failed: {\"messages\":[\"Expected a list of items but got type \\\"str\\\".\"]}",
     "output_type": "error",
     "traceback": [
      "\u001b[31m---------------------------------------------------------------------------\u001b[39m",
      "\u001b[31mHTTPStatusError\u001b[39m                           Traceback (most recent call last)",
      "\u001b[36mFile \u001b[39m\u001b[32mc:\\Users\\saina\\.conda\\envs\\autogen\\Lib\\site-packages\\mem0\\client\\utils.py:18\u001b[39m, in \u001b[36mapi_error_handler.<locals>.wrapper\u001b[39m\u001b[34m(*args, **kwargs)\u001b[39m\n\u001b[32m     17\u001b[39m \u001b[38;5;28;01mtry\u001b[39;00m:\n\u001b[32m---> \u001b[39m\u001b[32m18\u001b[39m     \u001b[38;5;28;01mreturn\u001b[39;00m \u001b[43mfunc\u001b[49m\u001b[43m(\u001b[49m\u001b[43m*\u001b[49m\u001b[43margs\u001b[49m\u001b[43m,\u001b[49m\u001b[43m \u001b[49m\u001b[43m*\u001b[49m\u001b[43m*\u001b[49m\u001b[43mkwargs\u001b[49m\u001b[43m)\u001b[49m\n\u001b[32m     19\u001b[39m \u001b[38;5;28;01mexcept\u001b[39;00m httpx.HTTPStatusError \u001b[38;5;28;01mas\u001b[39;00m e:\n",
      "\u001b[36mFile \u001b[39m\u001b[32mc:\\Users\\saina\\.conda\\envs\\autogen\\Lib\\site-packages\\mem0\\client\\main.py:160\u001b[39m, in \u001b[36mMemoryClient.add\u001b[39m\u001b[34m(self, messages, **kwargs)\u001b[39m\n\u001b[32m    159\u001b[39m response = \u001b[38;5;28mself\u001b[39m.client.post(\u001b[33m\"\u001b[39m\u001b[33m/v1/memories/\u001b[39m\u001b[33m\"\u001b[39m, json=payload)\n\u001b[32m--> \u001b[39m\u001b[32m160\u001b[39m \u001b[43mresponse\u001b[49m\u001b[43m.\u001b[49m\u001b[43mraise_for_status\u001b[49m\u001b[43m(\u001b[49m\u001b[43m)\u001b[49m\n\u001b[32m    161\u001b[39m \u001b[38;5;28;01mif\u001b[39;00m \u001b[33m\"\u001b[39m\u001b[33mmetadata\u001b[39m\u001b[33m\"\u001b[39m \u001b[38;5;129;01min\u001b[39;00m kwargs:\n",
      "\u001b[36mFile \u001b[39m\u001b[32mc:\\Users\\saina\\.conda\\envs\\autogen\\Lib\\site-packages\\httpx\\_models.py:829\u001b[39m, in \u001b[36mResponse.raise_for_status\u001b[39m\u001b[34m(self)\u001b[39m\n\u001b[32m    828\u001b[39m message = message.format(\u001b[38;5;28mself\u001b[39m, error_type=error_type)\n\u001b[32m--> \u001b[39m\u001b[32m829\u001b[39m \u001b[38;5;28;01mraise\u001b[39;00m HTTPStatusError(message, request=request, response=\u001b[38;5;28mself\u001b[39m)\n",
      "\u001b[31mHTTPStatusError\u001b[39m: Client error '400 Bad Request' for url 'https://api.mem0.ai/v1/memories/'\nFor more information check: https://developer.mozilla.org/en-US/docs/Web/HTTP/Status/400",
      "\nDuring handling of the above exception, another exception occurred:\n",
      "\u001b[31mAPIError\u001b[39m                                  Traceback (most recent call last)",
      "\u001b[36mCell\u001b[39m\u001b[36m \u001b[39m\u001b[32mIn[12]\u001b[39m\u001b[32m, line 27\u001b[39m\n\u001b[32m     19\u001b[39m mem0_memory = Mem0Memory(\n\u001b[32m     20\u001b[39m     is_cloud=\u001b[38;5;28;01mTrue\u001b[39;00m,\n\u001b[32m     21\u001b[39m     limit=\u001b[32m5\u001b[39m,  \u001b[38;5;66;03m# Maximum number of memories to retrieve\u001b[39;00m\n\u001b[32m     22\u001b[39m     api_key= os.getenv(\u001b[33m\"\u001b[39m\u001b[33mMEM0_MEMORY_API_KEY\u001b[39m\u001b[33m\"\u001b[39m),\n\u001b[32m     23\u001b[39m     user_id=\u001b[33m'\u001b[39m\u001b[33mmayank123\u001b[39m\u001b[33m'\u001b[39m\n\u001b[32m     24\u001b[39m )\n\u001b[32m     26\u001b[39m \u001b[38;5;66;03m# Add user preferences to memory\u001b[39;00m\n\u001b[32m---> \u001b[39m\u001b[32m27\u001b[39m \u001b[38;5;28;01mawait\u001b[39;00m mem0_memory.add(\n\u001b[32m     28\u001b[39m     MemoryContent(\n\u001b[32m     29\u001b[39m         content={\u001b[33m\"\u001b[39m\u001b[33mrole\u001b[39m\u001b[33m\"\u001b[39m:\u001b[33m\"\u001b[39m\u001b[33muser\u001b[39m\u001b[33m\"\u001b[39m,\u001b[33m\"\u001b[39m\u001b[33mcontent\u001b[39m\u001b[33m\"\u001b[39m:\u001b[33m\"\u001b[39m\u001b[33mThe weather should be in metric units\u001b[39m\u001b[33m\"\u001b[39m},\n\u001b[32m     30\u001b[39m         mime_type=MemoryMimeType.TEXT,\n\u001b[32m     31\u001b[39m         metadata={\u001b[33m\"\u001b[39m\u001b[33mcategory\u001b[39m\u001b[33m\"\u001b[39m: \u001b[33m\"\u001b[39m\u001b[33mpreferences\u001b[39m\u001b[33m\"\u001b[39m, \u001b[33m\"\u001b[39m\u001b[33mtype\u001b[39m\u001b[33m\"\u001b[39m: \u001b[33m\"\u001b[39m\u001b[33munits\u001b[39m\u001b[33m\"\u001b[39m},\n\u001b[32m     32\u001b[39m     )\n\u001b[32m     33\u001b[39m )\n\u001b[32m     35\u001b[39m \u001b[38;5;28;01mawait\u001b[39;00m mem0_memory.add(\n\u001b[32m     36\u001b[39m     MemoryContent(\n\u001b[32m     37\u001b[39m         content={\u001b[33m\"\u001b[39m\u001b[33mrole\u001b[39m\u001b[33m\"\u001b[39m:\u001b[33m\"\u001b[39m\u001b[33muser\u001b[39m\u001b[33m\"\u001b[39m,\u001b[33m\"\u001b[39m\u001b[33mcontent\u001b[39m\u001b[33m\"\u001b[39m:\u001b[33m\"\u001b[39m\u001b[33mMeal recipe must be vegan\u001b[39m\u001b[33m\"\u001b[39m},\n\u001b[32m   (...)\u001b[39m\u001b[32m     40\u001b[39m     )\n\u001b[32m     41\u001b[39m )\n\u001b[32m     43\u001b[39m \u001b[38;5;66;03m# Create assistant with mem0 memory\u001b[39;00m\n",
      "\u001b[36mFile \u001b[39m\u001b[32mc:\\Users\\saina\\.conda\\envs\\autogen\\Lib\\site-packages\\autogen_ext\\memory\\mem0\\_mem0.py:260\u001b[39m, in \u001b[36mMem0Memory.add\u001b[39m\u001b[34m(self, content, cancellation_token)\u001b[39m\n\u001b[32m    258\u001b[39m     kwargs = {} \u001b[38;5;28;01mif\u001b[39;00m \u001b[38;5;28mself\u001b[39m._client.\u001b[34m__class__\u001b[39m.\u001b[34m__name__\u001b[39m == \u001b[33m\"\u001b[39m\u001b[33mMemory\u001b[39m\u001b[33m\"\u001b[39m \u001b[38;5;28;01melse\u001b[39;00m {\u001b[33m\"\u001b[39m\u001b[33moutput_format\u001b[39m\u001b[33m\"\u001b[39m: \u001b[33m\"\u001b[39m\u001b[33mv1.1\u001b[39m\u001b[33m\"\u001b[39m}\n\u001b[32m    259\u001b[39m     \u001b[38;5;28;01mwith\u001b[39;00m redirect_stdout(io.StringIO()), redirect_stderr(io.StringIO()):\n\u001b[32m--> \u001b[39m\u001b[32m260\u001b[39m         \u001b[38;5;28;43mself\u001b[39;49m\u001b[43m.\u001b[49m\u001b[43m_client\u001b[49m\u001b[43m.\u001b[49m\u001b[43madd\u001b[49m\u001b[43m(\u001b[49m\u001b[43mmessage\u001b[49m\u001b[43m,\u001b[49m\u001b[43m \u001b[49m\u001b[43muser_id\u001b[49m\u001b[43m=\u001b[49m\u001b[43muser_id\u001b[49m\u001b[43m,\u001b[49m\u001b[43m \u001b[49m\u001b[43mmetadata\u001b[49m\u001b[43m=\u001b[49m\u001b[43mmetadata\u001b[49m\u001b[43m,\u001b[49m\u001b[43m \u001b[49m\u001b[43m*\u001b[49m\u001b[43m*\u001b[49m\u001b[43mkwargs\u001b[49m\u001b[43m)\u001b[49m  \u001b[38;5;66;03m# type: ignore\u001b[39;00m\n\u001b[32m    261\u001b[39m \u001b[38;5;28;01mexcept\u001b[39;00m \u001b[38;5;167;01mException\u001b[39;00m \u001b[38;5;28;01mas\u001b[39;00m e:\n\u001b[32m    262\u001b[39m     \u001b[38;5;66;03m# Log the error but don't crash\u001b[39;00m\n\u001b[32m    263\u001b[39m     logger.error(\u001b[33mf\u001b[39m\u001b[33m\"\u001b[39m\u001b[33mError adding to mem0 memory: \u001b[39m\u001b[38;5;132;01m{\u001b[39;00m\u001b[38;5;28mstr\u001b[39m(e)\u001b[38;5;132;01m}\u001b[39;00m\u001b[33m\"\u001b[39m)\n",
      "\u001b[36mFile \u001b[39m\u001b[32mc:\\Users\\saina\\.conda\\envs\\autogen\\Lib\\site-packages\\mem0\\client\\utils.py:21\u001b[39m, in \u001b[36mapi_error_handler.<locals>.wrapper\u001b[39m\u001b[34m(*args, **kwargs)\u001b[39m\n\u001b[32m     19\u001b[39m \u001b[38;5;28;01mexcept\u001b[39;00m httpx.HTTPStatusError \u001b[38;5;28;01mas\u001b[39;00m e:\n\u001b[32m     20\u001b[39m     logger.error(\u001b[33mf\u001b[39m\u001b[33m\"\u001b[39m\u001b[33mHTTP error occurred: \u001b[39m\u001b[38;5;132;01m{\u001b[39;00me\u001b[38;5;132;01m}\u001b[39;00m\u001b[33m\"\u001b[39m)\n\u001b[32m---> \u001b[39m\u001b[32m21\u001b[39m     \u001b[38;5;28;01mraise\u001b[39;00m APIError(\u001b[33mf\u001b[39m\u001b[33m\"\u001b[39m\u001b[33mAPI request failed: \u001b[39m\u001b[38;5;132;01m{\u001b[39;00me.response.text\u001b[38;5;132;01m}\u001b[39;00m\u001b[33m\"\u001b[39m)\n\u001b[32m     22\u001b[39m \u001b[38;5;28;01mexcept\u001b[39;00m httpx.RequestError \u001b[38;5;28;01mas\u001b[39;00m e:\n\u001b[32m     23\u001b[39m     logger.error(\u001b[33mf\u001b[39m\u001b[33m\"\u001b[39m\u001b[33mRequest error occurred: \u001b[39m\u001b[38;5;132;01m{\u001b[39;00me\u001b[38;5;132;01m}\u001b[39;00m\u001b[33m\"\u001b[39m)\n",
      "\u001b[31mAPIError\u001b[39m: API request failed: {\"messages\":[\"Expected a list of items but got type \\\"str\\\".\"]}"
     ]
    }
   ],
   "source": [
    "async def get_weather(city: str, units: str = \"imperial\") -> str:\n",
    "    if units == \"imperial\":\n",
    "        return f\"The weather in {city} is 73 °F and Sunny.\"\n",
    "    elif units == \"metric\":\n",
    "        return f\"The weather in {city} is 23 °C and Sunny.\"\n",
    "    else:\n",
    "        return f\"Sorry, I don't know the weather in {city}.\"\n",
    "\n",
    "\n",
    "\n",
    "from autogen_agentchat.agents import AssistantAgent\n",
    "from autogen_agentchat.ui import Console\n",
    "from autogen_core.memory import MemoryContent, MemoryMimeType\n",
    "from autogen_ext.memory.mem0 import Mem0Memory\n",
    "from autogen_ext.models.openai import OpenAIChatCompletionClient\n",
    "\n",
    "# Initialize Mem0 cloud memory (requires API key)\n",
    "# For local deployment, use is_cloud=False with appropriate config\n",
    "mem0_memory = Mem0Memory(\n",
    "    is_cloud=True,\n",
    "    limit=5,  # Maximum number of memories to retrieve\n",
    "    api_key= os.getenv(\"MEM0_MEMORY_API_KEY\"),\n",
    "    user_id='mayank123'\n",
    ")\n",
    "\n",
    "# Add user preferences to memory\n",
    "await mem0_memory.add(\n",
    "    MemoryContent(\n",
    "        content={\"role\":\"user\",\"content\":\"The weather should be in metric units\"},\n",
    "        mime_type=MemoryMimeType.TEXT,\n",
    "        metadata={\"category\": \"preferences\", \"type\": \"units\"},\n",
    "    )\n",
    ")\n",
    "\n",
    "await mem0_memory.add(\n",
    "    MemoryContent(\n",
    "        content={\"role\":\"user\",\"content\":\"Meal recipe must be vegan\"},\n",
    "        mime_type=MemoryMimeType.TEXT,\n",
    "        metadata={\"category\": \"preferences\", \"type\": \"dietary\"},\n",
    "    )\n",
    ")\n",
    "\n",
    "# Create assistant with mem0 memory\n",
    "assistant_agent = AssistantAgent(\n",
    "    name=\"assistant_agent\",\n",
    "    model_client=OpenAIChatCompletionClient(\n",
    "        model=\"gpt-4o-mini\",\n",
    "        api_key=api_key\n",
    "    ),\n",
    "    tools=[get_weather],\n",
    "    memory=[mem0_memory],\n",
    ")\n",
    "\n",
    "# Ask about the weather\n",
    "stream = assistant_agent.run_stream(task=\"What are my dietary preferences?\")\n",
    "await Console(stream)\n"
   ]
  },
  {
   "cell_type": "code",
   "execution_count": null,
   "id": "b6dcbc45",
   "metadata": {},
   "outputs": [],
   "source": []
  }
 ],
 "metadata": {
  "kernelspec": {
   "display_name": "autogen",
   "language": "python",
   "name": "python3"
  },
  "language_info": {
   "codemirror_mode": {
    "name": "ipython",
    "version": 3
   },
   "file_extension": ".py",
   "mimetype": "text/x-python",
   "name": "python",
   "nbconvert_exporter": "python",
   "pygments_lexer": "ipython3",
   "version": "3.11.13"
  }
 },
 "nbformat": 4,
 "nbformat_minor": 5
}
