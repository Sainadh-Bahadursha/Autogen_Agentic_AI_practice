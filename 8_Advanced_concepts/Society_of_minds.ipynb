{
 "cells": [
  {
   "cell_type": "code",
   "execution_count": 1,
   "id": "09ff1260",
   "metadata": {},
   "outputs": [
    {
     "name": "stdout",
     "output_type": "stream",
     "text": [
      "\n",
      "🏗️  Society of Mind Architecture:\n",
      "\n",
      "    ┌─────────────────────────────────────-┐\n",
      "    │        Society of Mind Agent         │\n",
      "    │  ┌─────────────────────────────────┐ │\n",
      "    │  │         Inner Team              │ │\n",
      "    │  │  ┌─────────┐  ┌─────────────┐   │ │\n",
      "    │  │  │ Agent A │  │   Agent B   │   │ │\n",
      "    │  │  │(Writer) │  │  (Editor)   │   │ │\n",
      "    │  │  └─────────┘  └─────────────┘   │ │\n",
      "    │  │         │            │          │ │\n",
      "    │  │         └────┬───────┘          │ │\n",
      "    │  │              │                  │ │\n",
      "    │  │         Discussion              │ │\n",
      "    │  └─────────────────────────────────┘ │\n",
      "    │                 │                    │\n",
      "    │            Synthesis                 │\n",
      "    │                 │                    │\n",
      "    │           Final Response             │\n",
      "    └─────────────────────────────────────-┘\n",
      "    \n"
     ]
    }
   ],
   "source": [
    "print(\"\\n🏗️  Society of Mind Architecture:\")\n",
    "print(\"\"\"\n",
    "    ┌─────────────────────────────────────-┐\n",
    "    │        Society of Mind Agent         │\n",
    "    │  ┌─────────────────────────────────┐ │\n",
    "    │  │         Inner Team              │ │\n",
    "    │  │  ┌─────────┐  ┌─────────────┐   │ │\n",
    "    │  │  │ Agent A │  │   Agent B   │   │ │\n",
    "    │  │  │(Writer) │  │  (Editor)   │   │ │\n",
    "    │  │  └─────────┘  └─────────────┘   │ │\n",
    "    │  │         │            │          │ │\n",
    "    │  │         └────┬───────┘          │ │\n",
    "    │  │              │                  │ │\n",
    "    │  │         Discussion              │ │\n",
    "    │  └─────────────────────────────────┘ │\n",
    "    │                 │                    │\n",
    "    │            Synthesis                 │\n",
    "    │                 │                    │\n",
    "    │           Final Response             │\n",
    "    └─────────────────────────────────────-┘\n",
    "    \"\"\")"
   ]
  },
  {
   "cell_type": "code",
   "execution_count": 3,
   "id": "3be6903b",
   "metadata": {},
   "outputs": [],
   "source": [
    "api_key=None"
   ]
  },
  {
   "cell_type": "code",
   "execution_count": 4,
   "id": "f2227955",
   "metadata": {},
   "outputs": [
    {
     "name": "stdout",
     "output_type": "stream",
     "text": [
      "---------- TextMessage (user) ----------\n",
      "Write a short story with a surprising ending under 50 words.\n",
      "---------- TextMessage (assistant1) ----------\n",
      "Lily watched the sun set, heart racing. She clutched the winning lottery ticket, already planning a new life. Suddenly, a gust of wind snatched it from her hand. As it danced away, she laughed. It hit the ground, unretrieved, among thousands of identical fallen leaves.\n",
      "---------- TextMessage (assistant2) ----------\n",
      "APPROVE\n",
      "---------- TextMessage (society_of_mind) ----------\n",
      "Lily watched the sunset with excitement, holding her winning lottery ticket. Suddenly, the wind swept it away, blending it with countless fallen leaves. Despite the loss, she laughed, embracing the moment.\n",
      "---------- TextMessage (assistant3) ----------\n",
      "Lily miraba la puesta de sol emocionada, sosteniendo su boleto de lotería ganador. De repente, el viento se lo llevó, mezclándolo con innumerables hojas caídas. A pesar de la pérdida, se rió, disfrutando el momento.\n"
     ]
    }
   ],
   "source": [
    "import asyncio\n",
    "from autogen_agentchat.ui import Console\n",
    "from autogen_agentchat.agents import AssistantAgent, SocietyOfMindAgent\n",
    "from autogen_ext.models.openai import OpenAIChatCompletionClient\n",
    "from autogen_agentchat.teams import RoundRobinGroupChat\n",
    "from autogen_agentchat.conditions import TextMentionTermination\n",
    "\n",
    "\n",
    "async def main() -> None:\n",
    "    model_client = OpenAIChatCompletionClient(model=\"gpt-4o-mini\",api_key=api_key)\n",
    "\n",
    "    agent1 = AssistantAgent(\"assistant1\", model_client=model_client, system_message=\"You are a writer, write well under 50 words.\")\n",
    "    agent2 = AssistantAgent(\n",
    "        \"assistant2\",\n",
    "        model_client=model_client,\n",
    "        system_message=\"You are an editor, provide critical feedback under 50 words. Respond with 'APPROVE' if the text addresses all feedbacks.\",\n",
    "    )\n",
    "    inner_termination = TextMentionTermination(\"APPROVE\")\n",
    "    inner_team = RoundRobinGroupChat([agent1, agent2], termination_condition=inner_termination)\n",
    "\n",
    "\n",
    "    society_of_mind_agent = SocietyOfMindAgent(\"society_of_mind\", team=inner_team, model_client=model_client,response_prompt='Output a standalone response to the original request under 50 words, without mentioning any of the intermediate discussion.')\n",
    "\n",
    "    agent4 = society_of_mind_agent = SocietyOfMindAgent(\"society_of_mind\", team=inner_team, model_client=model_client,response_prompt='Output a standalone response to the original request under 50 words, without mentioning any of the intermediate discussion.')\n",
    "\n",
    "\n",
    "\n",
    "\n",
    "\n",
    "    agent3 = AssistantAgent(\n",
    "        \"assistant3\", model_client=model_client, system_message=\"Translate the text to Spanish under 50 words.\"\n",
    "    )\n",
    "    team = RoundRobinGroupChat([society_of_mind_agent, agent3], max_turns=2)\n",
    "\n",
    "    stream = team.run_stream(task=\"Write a short story with a surprising ending under 50 words.\")\n",
    "    await Console(stream)\n",
    "\n",
    "\n",
    "await (main())\n"
   ]
  },
  {
   "cell_type": "code",
   "execution_count": null,
   "id": "47f584c9",
   "metadata": {},
   "outputs": [],
   "source": []
  }
 ],
 "metadata": {
  "kernelspec": {
   "display_name": "autogen",
   "language": "python",
   "name": "python3"
  },
  "language_info": {
   "codemirror_mode": {
    "name": "ipython",
    "version": 3
   },
   "file_extension": ".py",
   "mimetype": "text/x-python",
   "name": "python",
   "nbconvert_exporter": "python",
   "pygments_lexer": "ipython3",
   "version": "3.11.13"
  }
 },
 "nbformat": 4,
 "nbformat_minor": 5
}
