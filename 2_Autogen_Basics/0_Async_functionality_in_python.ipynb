{
 "cells": [
  {
   "cell_type": "markdown",
   "id": "6a7aeb39",
   "metadata": {},
   "source": [
    "# Async Functionality in Python"
   ]
  },
  {
   "cell_type": "code",
   "execution_count": 1,
   "id": "c92d15e7",
   "metadata": {},
   "outputs": [
    {
     "name": "stdout",
     "output_type": "stream",
     "text": [
      "Hello I am the first function\n",
      "Hello I am the second function\n",
      "Done\n"
     ]
    }
   ],
   "source": [
    "def fun1():\n",
    "    print(\"Hello I am the first function\")\n",
    "\n",
    "def fun2():\n",
    "    print(\"Hello I am the second function\")\n",
    "\n",
    "fun1()\n",
    "fun2()\n",
    "\n",
    "print(\"Done\")"
   ]
  },
  {
   "cell_type": "markdown",
   "id": "83c74f7d",
   "metadata": {},
   "source": [
    "Synchronous or normal way of coding"
   ]
  },
  {
   "cell_type": "code",
   "execution_count": 3,
   "id": "3c3c3b9e",
   "metadata": {},
   "outputs": [
    {
     "name": "stdout",
     "output_type": "stream",
     "text": [
      "Brewing Coffee\n",
      "Coffee Ready\n",
      "Toasting bagel\n",
      "Bagel Ready\n",
      "Time: 5.00 seconds\n"
     ]
    }
   ],
   "source": [
    "import time\n",
    "\n",
    "def brew_coffee():\n",
    "    print(\"Brewing Coffee\")\n",
    "    time.sleep(3) # 3 seconds\n",
    "    print(\"Coffee Ready\")\n",
    "\n",
    "def toast_bagel():\n",
    "    print(\"Toasting bagel\")\n",
    "    time.sleep(2) # 2 seconds\n",
    "    print(\"Bagel Ready\")\n",
    "\n",
    "def main():\n",
    "    start = time.time()\n",
    "\n",
    "    coffee = brew_coffee()\n",
    "    bagel = toast_bagel()\n",
    "\n",
    "    end = time.time()\n",
    "\n",
    "    print(f\"Time: {end-start:.2f} seconds\")\n",
    "\n",
    "main()"
   ]
  },
  {
   "cell_type": "markdown",
   "id": "8a17d84d",
   "metadata": {},
   "source": [
    "# Asynchronous Function"
   ]
  },
  {
   "cell_type": "code",
   "execution_count": 4,
   "id": "abcebb93",
   "metadata": {},
   "outputs": [
    {
     "name": "stdout",
     "output_type": "stream",
     "text": [
      "Brewing Coffee\n",
      "Toasting bagel\n",
      "Bagel Ready\n",
      "Coffee Ready\n",
      "Time: 3.00 seconds\n"
     ]
    }
   ],
   "source": [
    "import time\n",
    "import asyncio\n",
    "\n",
    "async def brew_coffee():\n",
    "    print(\"Brewing Coffee\")\n",
    "    await asyncio.sleep(3) # 3 seconds\n",
    "    print(\"Coffee Ready\")\n",
    "\n",
    "async def toast_bagel():\n",
    "    print(\"Toasting bagel\")\n",
    "    await asyncio.sleep(2) # 2 seconds\n",
    "    print(\"Bagel Ready\")\n",
    "\n",
    "async def main():\n",
    "    start = time.time()\n",
    "\n",
    "    coffee = brew_coffee()\n",
    "    bagel = toast_bagel()\n",
    "\n",
    "    results = await asyncio.gather(coffee,bagel)\n",
    "    \n",
    "    end = time.time()\n",
    "\n",
    "    print(f\"Time: {end-start:.2f} seconds\")\n",
    "\n",
    "await main()"
   ]
  },
  {
   "cell_type": "code",
   "execution_count": null,
   "id": "ded6082e",
   "metadata": {},
   "outputs": [],
   "source": []
  }
 ],
 "metadata": {
  "kernelspec": {
   "display_name": "autogen",
   "language": "python",
   "name": "python3"
  },
  "language_info": {
   "codemirror_mode": {
    "name": "ipython",
    "version": 3
   },
   "file_extension": ".py",
   "mimetype": "text/x-python",
   "name": "python",
   "nbconvert_exporter": "python",
   "pygments_lexer": "ipython3",
   "version": "3.11.13"
  }
 },
 "nbformat": 4,
 "nbformat_minor": 5
}
